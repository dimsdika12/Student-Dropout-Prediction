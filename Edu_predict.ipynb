{
  "cells": [
    {
      "cell_type": "markdown",
      "metadata": {
        "id": "Xo-j960W-4Mp"
      },
      "source": [
        "# Final Submission: Resolving Problems in Educational Institutions\n",
        "Name : Mohamad Dimas Amardika\n",
        "\n",
        "Email : dimasamardika24@gmail.com\n",
        "\n",
        "Id Dicoding : victor12"
      ]
    },
    {
      "cell_type": "markdown",
      "metadata": {
        "id": "-OWI2nBx_DNN"
      },
      "source": [
        "## Preparation"
      ]
    },
    {
      "cell_type": "markdown",
      "metadata": {
        "id": "dR5puKFu_Mm0"
      },
      "source": [
        "### Import library"
      ]
    },
    {
      "cell_type": "code",
      "execution_count": 1,
      "metadata": {
        "id": "I9s_c7j__CMN"
      },
      "outputs": [],
      "source": [
        "import pandas as pd\n",
        "import numpy as np\n",
        "import matplotlib.pyplot as plt\n",
        "import seaborn as sns\n",
        "import joblib\n",
        "import os\n",
        "from sklearn.preprocessing import LabelEncoder, StandardScaler, MinMaxScaler\n",
        "from sklearn.model_selection import train_test_split\n",
        "from sklearn.linear_model import LogisticRegression,Perceptron\n",
        "from sklearn.metrics import precision_score, recall_score, accuracy_score, f1_score, classification_report, confusion_matrix, ConfusionMatrixDisplay, PrecisionRecallDisplay, RocCurveDisplay"
      ]
    },
    {
      "cell_type": "markdown",
      "metadata": {
        "id": "Lb-eGOSM_YzN"
      },
      "source": [
        "### Import Data"
      ]
    },
    {
      "cell_type": "code",
      "execution_count": 2,
      "metadata": {
        "id": "fQ-HPmjJ_bYP"
      },
      "outputs": [],
      "source": [
        "df = pd.read_csv(\"https://raw.githubusercontent.com/dicodingacademy/dicoding_dataset/main/students_performance/data.csv\", sep=';')"
      ]
    },
    {
      "cell_type": "markdown",
      "metadata": {
        "id": "oCfmeyfj_e7V"
      },
      "source": [
        "## Data Understanding"
      ]
    },
    {
      "cell_type": "code",
      "execution_count": 3,
      "metadata": {
        "colab": {
          "base_uri": "https://localhost:8080/"
        },
        "id": "KxzRvstA_lKI",
        "outputId": "4c076501-079a-4bd6-80b7-763f6ca337ef"
      },
      "outputs": [
        {
          "data": {
            "text/plain": [
              "(4424, 37)"
            ]
          },
          "execution_count": 3,
          "metadata": {},
          "output_type": "execute_result"
        }
      ],
      "source": [
        "df.shape"
      ]
    },
    {
      "cell_type": "code",
      "execution_count": 4,
      "metadata": {
        "colab": {
          "base_uri": "https://localhost:8080/"
        },
        "id": "Tdf9GPe-_q8i",
        "outputId": "6abac88f-ac6f-4292-d082-f79f5cb9cb74"
      },
      "outputs": [
        {
          "name": "stdout",
          "output_type": "stream",
          "text": [
            "<class 'pandas.core.frame.DataFrame'>\n",
            "RangeIndex: 4424 entries, 0 to 4423\n",
            "Data columns (total 37 columns):\n",
            " #   Column                                        Non-Null Count  Dtype  \n",
            "---  ------                                        --------------  -----  \n",
            " 0   Marital_status                                4424 non-null   int64  \n",
            " 1   Application_mode                              4424 non-null   int64  \n",
            " 2   Application_order                             4424 non-null   int64  \n",
            " 3   Course                                        4424 non-null   int64  \n",
            " 4   Daytime_evening_attendance                    4424 non-null   int64  \n",
            " 5   Previous_qualification                        4424 non-null   int64  \n",
            " 6   Previous_qualification_grade                  4424 non-null   float64\n",
            " 7   Nacionality                                   4424 non-null   int64  \n",
            " 8   Mothers_qualification                         4424 non-null   int64  \n",
            " 9   Fathers_qualification                         4424 non-null   int64  \n",
            " 10  Mothers_occupation                            4424 non-null   int64  \n",
            " 11  Fathers_occupation                            4424 non-null   int64  \n",
            " 12  Admission_grade                               4424 non-null   float64\n",
            " 13  Displaced                                     4424 non-null   int64  \n",
            " 14  Educational_special_needs                     4424 non-null   int64  \n",
            " 15  Debtor                                        4424 non-null   int64  \n",
            " 16  Tuition_fees_up_to_date                       4424 non-null   int64  \n",
            " 17  Gender                                        4424 non-null   int64  \n",
            " 18  Scholarship_holder                            4424 non-null   int64  \n",
            " 19  Age_at_enrollment                             4424 non-null   int64  \n",
            " 20  International                                 4424 non-null   int64  \n",
            " 21  Curricular_units_1st_sem_credited             4424 non-null   int64  \n",
            " 22  Curricular_units_1st_sem_enrolled             4424 non-null   int64  \n",
            " 23  Curricular_units_1st_sem_evaluations          4424 non-null   int64  \n",
            " 24  Curricular_units_1st_sem_approved             4424 non-null   int64  \n",
            " 25  Curricular_units_1st_sem_grade                4424 non-null   float64\n",
            " 26  Curricular_units_1st_sem_without_evaluations  4424 non-null   int64  \n",
            " 27  Curricular_units_2nd_sem_credited             4424 non-null   int64  \n",
            " 28  Curricular_units_2nd_sem_enrolled             4424 non-null   int64  \n",
            " 29  Curricular_units_2nd_sem_evaluations          4424 non-null   int64  \n",
            " 30  Curricular_units_2nd_sem_approved             4424 non-null   int64  \n",
            " 31  Curricular_units_2nd_sem_grade                4424 non-null   float64\n",
            " 32  Curricular_units_2nd_sem_without_evaluations  4424 non-null   int64  \n",
            " 33  Unemployment_rate                             4424 non-null   float64\n",
            " 34  Inflation_rate                                4424 non-null   float64\n",
            " 35  GDP                                           4424 non-null   float64\n",
            " 36  Status                                        4424 non-null   object \n",
            "dtypes: float64(7), int64(29), object(1)\n",
            "memory usage: 1.2+ MB\n"
          ]
        }
      ],
      "source": [
        "df.info()"
      ]
    },
    {
      "cell_type": "code",
      "execution_count": 5,
      "metadata": {
        "colab": {
          "base_uri": "https://localhost:8080/"
        },
        "id": "dpFR9po7_sgS",
        "outputId": "0e7bf73d-179a-45bc-ebbb-402afe6f9533"
      },
      "outputs": [
        {
          "data": {
            "text/plain": [
              "0"
            ]
          },
          "execution_count": 5,
          "metadata": {},
          "output_type": "execute_result"
        }
      ],
      "source": [
        "df.duplicated().sum()"
      ]
    },
    {
      "cell_type": "code",
      "execution_count": 6,
      "metadata": {
        "colab": {
          "base_uri": "https://localhost:8080/"
        },
        "id": "xn0dD1Wb_-zk",
        "outputId": "fa9428e8-b178-4d49-fba1-a4ec904ed78f"
      },
      "outputs": [
        {
          "data": {
            "text/plain": [
              "array(['Dropout', 'Graduate', 'Enrolled'], dtype=object)"
            ]
          },
          "execution_count": 6,
          "metadata": {},
          "output_type": "execute_result"
        }
      ],
      "source": [
        "df[\"Status\"].unique()"
      ]
    },
    {
      "cell_type": "code",
      "execution_count": 7,
      "metadata": {
        "colab": {
          "base_uri": "https://localhost:8080/"
        },
        "id": "2LbUrNwhaEMU",
        "outputId": "898b351b-0225-41f8-93e9-0ecf733905c3"
      },
      "outputs": [
        {
          "data": {
            "text/plain": [
              "Graduate    2209\n",
              "Dropout     1421\n",
              "Enrolled     794\n",
              "Name: Status, dtype: int64"
            ]
          },
          "execution_count": 7,
          "metadata": {},
          "output_type": "execute_result"
        }
      ],
      "source": [
        "df[\"Status\"].value_counts()"
      ]
    },
    {
      "cell_type": "markdown",
      "metadata": {
        "id": "Pqs79GEmAGS1"
      },
      "source": [
        "## Data Preparation / Preprocessing"
      ]
    },
    {
      "cell_type": "code",
      "execution_count": 8,
      "metadata": {
        "colab": {
          "base_uri": "https://localhost:8080/"
        },
        "id": "t3FBQqBnAMzC",
        "outputId": "bb3ad74e-ab30-45ea-d554-64e4128b6abb"
      },
      "outputs": [
        {
          "data": {
            "text/plain": [
              "Graduate    2209\n",
              "Dropout     1421\n",
              "Name: Status, dtype: int64"
            ]
          },
          "execution_count": 8,
          "metadata": {},
          "output_type": "execute_result"
        }
      ],
      "source": [
        "# Removed 'Enrolled' value as irrelevant, focus on 'Graduate' and 'Dropout'\n",
        "df= df[df['Status'].isin(['Dropout', 'Graduate'])]\n",
        "df[\"Status\"].value_counts()"
      ]
    },
    {
      "cell_type": "markdown",
      "metadata": {
        "id": "JhBRyMdFBKiK"
      },
      "source": [
        "### cek correlation"
      ]
    },
    {
      "cell_type": "code",
      "execution_count": 9,
      "metadata": {
        "colab": {
          "base_uri": "https://localhost:8080/"
        },
        "id": "XVGUcofJAfKc",
        "outputId": "8b8989d4-613a-4ced-830e-91586b096b33"
      },
      "outputs": [
        {
          "data": {
            "text/plain": [
              "1    2209\n",
              "0    1421\n",
              "Name: Status, dtype: int64"
            ]
          },
          "execution_count": 9,
          "metadata": {},
          "output_type": "execute_result"
        }
      ],
      "source": [
        "# Encode 'Status' as numeric values\n",
        "df_cor = df.copy()\n",
        "df_cor['Status'] = LabelEncoder().fit_transform(df_cor['Status'])\n",
        "df_cor['Status'].value_counts()"
      ]
    },
    {
      "cell_type": "code",
      "execution_count": 10,
      "metadata": {
        "colab": {
          "base_uri": "https://localhost:8080/",
          "height": 1000
        },
        "id": "wLzTRwmNbmLS",
        "outputId": "3a304f9d-5882-4fb4-e81f-b26a5642ce6f"
      },
      "outputs": [
        {
          "data": {
            "image/png": "[encoded data removed]",
            "text/plain": [
              "<Figure size 720x720 with 2 Axes>"
            ]
          },
          "metadata": {
            "needs_background": "light"
          },
          "output_type": "display_data"
        }
      ],
      "source": [
        "#feature selection\n",
        "corr_matrix = df_cor.corr(method=\"pearson\")\n",
        "plt.figure(figsize=(10, 10))\n",
        "sns.heatmap(corr_matrix, vmin=-1., vmax=1., annot=False, fmt='.2f', cmap=\"YlGnBu\", cbar=True, linewidths=0.5)\n",
        "plt.title(\"Pearson correlation\")\n",
        "plt.show()"
      ]
    },
    {
      "cell_type": "markdown",
      "metadata": {
        "id": "ZYsV3TwkCORm"
      },
      "source": [
        "### Selects relevant features based on correlation results"
      ]
    },
    {
      "cell_type": "code",
      "execution_count": 11,
      "metadata": {
        "id": "0Dhw5_XGCQRp"
      },
      "outputs": [],
      "source": [
        "selected_features = ['Tuition_fees_up_to_date', 'Scholarship_holder',\n",
        "                     'Curricular_units_1st_sem_approved', 'Curricular_units_1st_sem_grade',\n",
        "                     'Curricular_units_2nd_sem_approved', 'Curricular_units_2nd_sem_grade', 'Status']\n",
        "df = df[selected_features]"
      ]
    },
    {
      "cell_type": "code",
      "execution_count": 12,
      "metadata": {
        "colab": {
          "base_uri": "https://localhost:8080/",
          "height": 393
        },
        "id": "Lk5aogb6eCaQ",
        "outputId": "a819ef58-a9bb-42eb-d0d4-22cfe771fe6c"
      },
      "outputs": [
        {
          "data": {
            "text/html": [
              "<div>\n",
              "<style scoped>\n",
              "    .dataframe tbody tr th:only-of-type {\n",
              "        vertical-align: middle;\n",
              "    }\n",
              "\n",
              "    .dataframe tbody tr th {\n",
              "        vertical-align: top;\n",
              "    }\n",
              "\n",
              "    .dataframe thead th {\n",
              "        text-align: right;\n",
              "    }\n",
              "</style>\n",
              "<table border=\"1\" class=\"dataframe\">\n",
              "  <thead>\n",
              "    <tr style=\"text-align: right;\">\n",
              "      <th></th>\n",
              "      <th>Tuition_fees_up_to_date</th>\n",
              "      <th>Scholarship_holder</th>\n",
              "      <th>Curricular_units_1st_sem_approved</th>\n",
              "      <th>Curricular_units_1st_sem_grade</th>\n",
              "      <th>Curricular_units_2nd_sem_approved</th>\n",
              "      <th>Curricular_units_2nd_sem_grade</th>\n",
              "      <th>Status</th>\n",
              "    </tr>\n",
              "  </thead>\n",
              "  <tbody>\n",
              "    <tr>\n",
              "      <th>count</th>\n",
              "      <td>3630.000000</td>\n",
              "      <td>3630.000000</td>\n",
              "      <td>3630.000000</td>\n",
              "      <td>3630.000000</td>\n",
              "      <td>3630.000000</td>\n",
              "      <td>3630.000000</td>\n",
              "      <td>3630</td>\n",
              "    </tr>\n",
              "    <tr>\n",
              "      <th>unique</th>\n",
              "      <td>NaN</td>\n",
              "      <td>NaN</td>\n",
              "      <td>NaN</td>\n",
              "      <td>NaN</td>\n",
              "      <td>NaN</td>\n",
              "      <td>NaN</td>\n",
              "      <td>2</td>\n",
              "    </tr>\n",
              "    <tr>\n",
              "      <th>top</th>\n",
              "      <td>NaN</td>\n",
              "      <td>NaN</td>\n",
              "      <td>NaN</td>\n",
              "      <td>NaN</td>\n",
              "      <td>NaN</td>\n",
              "      <td>NaN</td>\n",
              "      <td>Graduate</td>\n",
              "    </tr>\n",
              "    <tr>\n",
              "      <th>freq</th>\n",
              "      <td>NaN</td>\n",
              "      <td>NaN</td>\n",
              "      <td>NaN</td>\n",
              "      <td>NaN</td>\n",
              "      <td>NaN</td>\n",
              "      <td>NaN</td>\n",
              "      <td>2209</td>\n",
              "    </tr>\n",
              "    <tr>\n",
              "      <th>mean</th>\n",
              "      <td>0.866116</td>\n",
              "      <td>0.266942</td>\n",
              "      <td>4.791460</td>\n",
              "      <td>10.534860</td>\n",
              "      <td>4.518457</td>\n",
              "      <td>10.036155</td>\n",
              "      <td>NaN</td>\n",
              "    </tr>\n",
              "    <tr>\n",
              "      <th>std</th>\n",
              "      <td>0.340575</td>\n",
              "      <td>0.442423</td>\n",
              "      <td>3.237845</td>\n",
              "      <td>5.057694</td>\n",
              "      <td>3.162376</td>\n",
              "      <td>5.481742</td>\n",
              "      <td>NaN</td>\n",
              "    </tr>\n",
              "    <tr>\n",
              "      <th>min</th>\n",
              "      <td>0.000000</td>\n",
              "      <td>0.000000</td>\n",
              "      <td>0.000000</td>\n",
              "      <td>0.000000</td>\n",
              "      <td>0.000000</td>\n",
              "      <td>0.000000</td>\n",
              "      <td>NaN</td>\n",
              "    </tr>\n",
              "    <tr>\n",
              "      <th>25%</th>\n",
              "      <td>1.000000</td>\n",
              "      <td>0.000000</td>\n",
              "      <td>3.000000</td>\n",
              "      <td>11.000000</td>\n",
              "      <td>2.000000</td>\n",
              "      <td>10.517857</td>\n",
              "      <td>NaN</td>\n",
              "    </tr>\n",
              "    <tr>\n",
              "      <th>50%</th>\n",
              "      <td>1.000000</td>\n",
              "      <td>0.000000</td>\n",
              "      <td>5.000000</td>\n",
              "      <td>12.341429</td>\n",
              "      <td>5.000000</td>\n",
              "      <td>12.333333</td>\n",
              "      <td>NaN</td>\n",
              "    </tr>\n",
              "    <tr>\n",
              "      <th>75%</th>\n",
              "      <td>1.000000</td>\n",
              "      <td>1.000000</td>\n",
              "      <td>6.000000</td>\n",
              "      <td>13.500000</td>\n",
              "      <td>6.000000</td>\n",
              "      <td>13.500000</td>\n",
              "      <td>NaN</td>\n",
              "    </tr>\n",
              "    <tr>\n",
              "      <th>max</th>\n",
              "      <td>1.000000</td>\n",
              "      <td>1.000000</td>\n",
              "      <td>26.000000</td>\n",
              "      <td>18.875000</td>\n",
              "      <td>20.000000</td>\n",
              "      <td>18.571429</td>\n",
              "      <td>NaN</td>\n",
              "    </tr>\n",
              "  </tbody>\n",
              "</table>\n",
              "</div>"
            ],
            "text/plain": [
              "        Tuition_fees_up_to_date  Scholarship_holder  \\\n",
              "count               3630.000000         3630.000000   \n",
              "unique                      NaN                 NaN   \n",
              "top                         NaN                 NaN   \n",
              "freq                        NaN                 NaN   \n",
              "mean                   0.866116            0.266942   \n",
              "std                    0.340575            0.442423   \n",
              "min                    0.000000            0.000000   \n",
              "25%                    1.000000            0.000000   \n",
              "50%                    1.000000            0.000000   \n",
              "75%                    1.000000            1.000000   \n",
              "max                    1.000000            1.000000   \n",
              "\n",
              "        Curricular_units_1st_sem_approved  Curricular_units_1st_sem_grade  \\\n",
              "count                         3630.000000                     3630.000000   \n",
              "unique                                NaN                             NaN   \n",
              "top                                   NaN                             NaN   \n",
              "freq                                  NaN                             NaN   \n",
              "mean                             4.791460                       10.534860   \n",
              "std                              3.237845                        5.057694   \n",
              "min                              0.000000                        0.000000   \n",
              "25%                              3.000000                       11.000000   \n",
              "50%                              5.000000                       12.341429   \n",
              "75%                              6.000000                       13.500000   \n",
              "max                             26.000000                       18.875000   \n",
              "\n",
              "        Curricular_units_2nd_sem_approved  Curricular_units_2nd_sem_grade  \\\n",
              "count                         3630.000000                     3630.000000   \n",
              "unique                                NaN                             NaN   \n",
              "top                                   NaN                             NaN   \n",
              "freq                                  NaN                             NaN   \n",
              "mean                             4.518457                       10.036155   \n",
              "std                              3.162376                        5.481742   \n",
              "min                              0.000000                        0.000000   \n",
              "25%                              2.000000                       10.517857   \n",
              "50%                              5.000000                       12.333333   \n",
              "75%                              6.000000                       13.500000   \n",
              "max                             20.000000                       18.571429   \n",
              "\n",
              "          Status  \n",
              "count       3630  \n",
              "unique         2  \n",
              "top     Graduate  \n",
              "freq        2209  \n",
              "mean         NaN  \n",
              "std          NaN  \n",
              "min          NaN  \n",
              "25%          NaN  \n",
              "50%          NaN  \n",
              "75%          NaN  \n",
              "max          NaN  "
            ]
          },
          "execution_count": 12,
          "metadata": {},
          "output_type": "execute_result"
        }
      ],
      "source": [
        "df.describe(include=\"all\")"
      ]
    },
    {
      "cell_type": "code",
      "execution_count": 13,
      "metadata": {
        "colab": {
          "base_uri": "https://localhost:8080/"
        },
        "id": "PPrVTg67eReq",
        "outputId": "13b0aa0b-1686-4789-b323-80276276fb3d"
      },
      "outputs": [
        {
          "name": "stdout",
          "output_type": "stream",
          "text": [
            "<class 'pandas.core.frame.DataFrame'>\n",
            "Int64Index: 3630 entries, 0 to 4423\n",
            "Data columns (total 7 columns):\n",
            " #   Column                             Non-Null Count  Dtype  \n",
            "---  ------                             --------------  -----  \n",
            " 0   Tuition_fees_up_to_date            3630 non-null   int64  \n",
            " 1   Scholarship_holder                 3630 non-null   int64  \n",
            " 2   Curricular_units_1st_sem_approved  3630 non-null   int64  \n",
            " 3   Curricular_units_1st_sem_grade     3630 non-null   float64\n",
            " 4   Curricular_units_2nd_sem_approved  3630 non-null   int64  \n",
            " 5   Curricular_units_2nd_sem_grade     3630 non-null   float64\n",
            " 6   Status                             3630 non-null   object \n",
            "dtypes: float64(2), int64(4), object(1)\n",
            "memory usage: 226.9+ KB\n"
          ]
        }
      ],
      "source": [
        "df.info()"
      ]
    },
    {
      "cell_type": "code",
      "execution_count": 14,
      "metadata": {
        "colab": {
          "base_uri": "https://localhost:8080/"
        },
        "id": "5zaDUJDggcXY",
        "outputId": "5e1a735e-33f5-4798-a853-f70fb4b070b2"
      },
      "outputs": [
        {
          "data": {
            "text/plain": [
              "Index(['Tuition_fees_up_to_date', 'Scholarship_holder',\n",
              "       'Curricular_units_1st_sem_approved', 'Curricular_units_1st_sem_grade',\n",
              "       'Curricular_units_2nd_sem_approved', 'Curricular_units_2nd_sem_grade',\n",
              "       'Status'],\n",
              "      dtype='object')"
            ]
          },
          "execution_count": 14,
          "metadata": {},
          "output_type": "execute_result"
        }
      ],
      "source": [
        "df.columns"
      ]
    },
    {
      "cell_type": "code",
      "execution_count": 15,
      "metadata": {
        "colab": {
          "base_uri": "https://localhost:8080/"
        },
        "id": "Mbds2z4MfqUR",
        "outputId": "c3d249f6-ea8e-446f-9f6f-f0868a5e441d"
      },
      "outputs": [
        {
          "data": {
            "text/plain": [
              "(3630, 7)"
            ]
          },
          "execution_count": 15,
          "metadata": {},
          "output_type": "execute_result"
        }
      ],
      "source": [
        "df.shape"
      ]
    },
    {
      "cell_type": "markdown",
      "metadata": {
        "id": "bG8wx9ehebEY"
      },
      "source": [
        "## Exploratory Data Analyst"
      ]
    },
    {
      "cell_type": "code",
      "execution_count": 16,
      "metadata": {
        "colab": {
          "base_uri": "https://localhost:8080/",
          "height": 675
        },
        "id": "fBVpHBeGfK-i",
        "outputId": "a24abdf7-1418-41ed-fc4e-494019fff090"
      },
      "outputs": [
        {
          "data": {
            "image/png": "[encoded data removed]",
            "text/plain": [
              "<Figure size 576x576 with 1 Axes>"
            ]
          },
          "metadata": {},
          "output_type": "display_data"
        }
      ],
      "source": [
        "plt.figure(figsize=(8, 8))\n",
        "plt.title(\"Status\")\n",
        "status_counts = df['Status'].value_counts()\n",
        "plt.pie(status_counts, explode=(0.2, 0.0), labels=status_counts.index, autopct='%1.2f%%', shadow=True)\n",
        "plt.legend(loc='lower right')\n",
        "plt.show()"
      ]
    },
    {
      "cell_type": "markdown",
      "metadata": {
        "id": "uXUV6v-zfZrD"
      },
      "source": [
        "Based on the data, 60.85% of the students graduated and 39.15% dropped out, out of a total of 3,630 students."
      ]
    },
    {
      "cell_type": "code",
      "execution_count": 17,
      "metadata": {
        "id": "sk9GPACP67wZ"
      },
      "outputs": [],
      "source": [
        "# # Export CSV\n",
        "# df.to_csv('/content/csv_output/dashboard_1.csv', index=False)"
      ]
    },
    {
      "cell_type": "markdown",
      "metadata": {
        "id": "jFPch7lVgUwU"
      },
      "source": [
        "### Effect of Tuition Fees up to Date on Dropout Rates"
      ]
    },
    {
      "cell_type": "code",
      "execution_count": 18,
      "metadata": {
        "colab": {
          "base_uri": "https://localhost:8080/",
          "height": 279
        },
        "id": "cxVRTvznloi0",
        "outputId": "c5b5205a-a499-445c-ca9a-a11bb62700cb"
      },
      "outputs": [
        {
          "name": "stderr",
          "output_type": "stream",
          "text": [
            "C:\\Users\\USER\\AppData\\Local\\Temp\\ipykernel_6572\\3362928477.py:2: SettingWithCopyWarning: \n",
            "A value is trying to be set on a copy of a slice from a DataFrame.\n",
            "Try using .loc[row_indexer,col_indexer] = value instead\n",
            "\n",
            "See the caveats in the documentation: https://pandas.pydata.org/pandas-docs/stable/user_guide/indexing.html#returning-a-view-versus-a-copy\n",
            "  tuition_fees_df ['Tuition_fees_up_to_date'] = tuition_fees_df ['Tuition_fees_up_to_date'].replace({1: 'Yes', 0: 'No'})\n"
          ]
        },
        {
          "data": {
            "text/html": [
              "<div>\n",
              "<style scoped>\n",
              "    .dataframe tbody tr th:only-of-type {\n",
              "        vertical-align: middle;\n",
              "    }\n",
              "\n",
              "    .dataframe tbody tr th {\n",
              "        vertical-align: top;\n",
              "    }\n",
              "\n",
              "    .dataframe thead th {\n",
              "        text-align: right;\n",
              "    }\n",
              "</style>\n",
              "<table border=\"1\" class=\"dataframe\">\n",
              "  <thead>\n",
              "    <tr style=\"text-align: right;\">\n",
              "      <th></th>\n",
              "      <th>Tuition_fees_up_to_date</th>\n",
              "      <th>Status</th>\n",
              "      <th>Count</th>\n",
              "    </tr>\n",
              "  </thead>\n",
              "  <tbody>\n",
              "    <tr>\n",
              "      <th>0</th>\n",
              "      <td>No</td>\n",
              "      <td>Dropout</td>\n",
              "      <td>457</td>\n",
              "    </tr>\n",
              "    <tr>\n",
              "      <th>1</th>\n",
              "      <td>No</td>\n",
              "      <td>Graduate</td>\n",
              "      <td>29</td>\n",
              "    </tr>\n",
              "    <tr>\n",
              "      <th>2</th>\n",
              "      <td>Yes</td>\n",
              "      <td>Dropout</td>\n",
              "      <td>964</td>\n",
              "    </tr>\n",
              "    <tr>\n",
              "      <th>3</th>\n",
              "      <td>Yes</td>\n",
              "      <td>Graduate</td>\n",
              "      <td>2180</td>\n",
              "    </tr>\n",
              "  </tbody>\n",
              "</table>\n",
              "</div>"
            ],
            "text/plain": [
              "  Tuition_fees_up_to_date    Status  Count\n",
              "0                      No   Dropout    457\n",
              "1                      No  Graduate     29\n",
              "2                     Yes   Dropout    964\n",
              "3                     Yes  Graduate   2180"
            ]
          },
          "execution_count": 18,
          "metadata": {},
          "output_type": "execute_result"
        }
      ],
      "source": [
        "tuition_fees_df = df[['Tuition_fees_up_to_date', 'Status']]\n",
        "tuition_fees_df ['Tuition_fees_up_to_date'] = tuition_fees_df ['Tuition_fees_up_to_date'].replace({1: 'Yes', 0: 'No'})\n",
        "tuition_fees_df = tuition_fees_df.groupby(['Tuition_fees_up_to_date', 'Status']).agg(Count=('Status', 'count')).reset_index()\n",
        "tuition_fees_df"
      ]
    },
    {
      "cell_type": "code",
      "execution_count": 19,
      "metadata": {
        "colab": {
          "base_uri": "https://localhost:8080/",
          "height": 564
        },
        "id": "VUa6X7OstN4J",
        "outputId": "971aa742-111f-4164-ba7e-3107eaf4afc5"
      },
      "outputs": [
        {
          "data": {
            "image/png": "[encoded data removed]",
            "text/plain": [
              "<Figure size 720x432 with 1 Axes>"
            ]
          },
          "metadata": {
            "needs_background": "light"
          },
          "output_type": "display_data"
        }
      ],
      "source": [
        "dropout_df = tuition_fees_df[tuition_fees_df['Status'] == 'Dropout']\n",
        "\n",
        "plt.figure(figsize=(10, 6))\n",
        "sns.barplot(data=dropout_df, x='Tuition_fees_up_to_date', y='Count', hue='Status')\n",
        "\n",
        "plt.title('Effect of Tuition Fees up to Date on Dropout Rates')\n",
        "plt.xlabel('Tuition Fees up to Date')\n",
        "plt.ylabel('Number of Students')\n",
        "plt.legend(title='Status')\n",
        "\n",
        "plt.show()"
      ]
    },
    {
      "cell_type": "markdown",
      "metadata": {
        "id": "f_gqosH5tZbF"
      },
      "source": [
        "Based on the analysis of the effect of tuition fees up to date on dropout rates, it is observed that there are significantly fewer cases of student dropout when tuition fees are paid up to date. Specifically:\n",
        "\n",
        "- Tuition Fees up to Date No: There were 457 cases of student dropout.\n",
        "\n",
        "- Tuition Fees up to Date Yes: There were 964 cases of student dropout.\n"
      ]
    },
    {
      "cell_type": "code",
      "execution_count": 20,
      "metadata": {
        "id": "VUVkaehg7nGa"
      },
      "outputs": [],
      "source": [
        "# # Export CSV\n",
        "# dropout_df.to_csv('/content/csv_output/dashboard_2.csv', index=False)"
      ]
    },
    {
      "cell_type": "markdown",
      "metadata": {
        "id": "NBsFEW7HvTfk"
      },
      "source": [
        "### Effect of Scholarship Holder Status on Dropout Rates"
      ]
    },
    {
      "cell_type": "code",
      "execution_count": 21,
      "metadata": {
        "colab": {
          "base_uri": "https://localhost:8080/",
          "height": 279
        },
        "id": "0vwluUzsvAIe",
        "outputId": "285fe670-c27b-4350-9f2e-31966dc19c66"
      },
      "outputs": [
        {
          "name": "stderr",
          "output_type": "stream",
          "text": [
            "C:\\Users\\USER\\AppData\\Local\\Temp\\ipykernel_6572\\4057991807.py:2: SettingWithCopyWarning: \n",
            "A value is trying to be set on a copy of a slice from a DataFrame.\n",
            "Try using .loc[row_indexer,col_indexer] = value instead\n",
            "\n",
            "See the caveats in the documentation: https://pandas.pydata.org/pandas-docs/stable/user_guide/indexing.html#returning-a-view-versus-a-copy\n",
            "  Scholarship_holder_df ['Scholarship_holder'] = Scholarship_holder_df ['Scholarship_holder'].replace({1: 'Yes', 0: 'No'})\n"
          ]
        },
        {
          "data": {
            "text/html": [
              "<div>\n",
              "<style scoped>\n",
              "    .dataframe tbody tr th:only-of-type {\n",
              "        vertical-align: middle;\n",
              "    }\n",
              "\n",
              "    .dataframe tbody tr th {\n",
              "        vertical-align: top;\n",
              "    }\n",
              "\n",
              "    .dataframe thead th {\n",
              "        text-align: right;\n",
              "    }\n",
              "</style>\n",
              "<table border=\"1\" class=\"dataframe\">\n",
              "  <thead>\n",
              "    <tr style=\"text-align: right;\">\n",
              "      <th></th>\n",
              "      <th>Scholarship_holder</th>\n",
              "      <th>Status</th>\n",
              "      <th>Count</th>\n",
              "    </tr>\n",
              "  </thead>\n",
              "  <tbody>\n",
              "    <tr>\n",
              "      <th>0</th>\n",
              "      <td>No</td>\n",
              "      <td>Dropout</td>\n",
              "      <td>1287</td>\n",
              "    </tr>\n",
              "    <tr>\n",
              "      <th>1</th>\n",
              "      <td>No</td>\n",
              "      <td>Graduate</td>\n",
              "      <td>1374</td>\n",
              "    </tr>\n",
              "    <tr>\n",
              "      <th>2</th>\n",
              "      <td>Yes</td>\n",
              "      <td>Dropout</td>\n",
              "      <td>134</td>\n",
              "    </tr>\n",
              "    <tr>\n",
              "      <th>3</th>\n",
              "      <td>Yes</td>\n",
              "      <td>Graduate</td>\n",
              "      <td>835</td>\n",
              "    </tr>\n",
              "  </tbody>\n",
              "</table>\n",
              "</div>"
            ],
            "text/plain": [
              "  Scholarship_holder    Status  Count\n",
              "0                 No   Dropout   1287\n",
              "1                 No  Graduate   1374\n",
              "2                Yes   Dropout    134\n",
              "3                Yes  Graduate    835"
            ]
          },
          "execution_count": 21,
          "metadata": {},
          "output_type": "execute_result"
        }
      ],
      "source": [
        "Scholarship_holder_df = df[['Scholarship_holder', 'Status']]\n",
        "Scholarship_holder_df ['Scholarship_holder'] = Scholarship_holder_df ['Scholarship_holder'].replace({1: 'Yes', 0: 'No'})\n",
        "Scholarship_holder_df = Scholarship_holder_df.groupby(['Scholarship_holder', 'Status']).agg(Count=('Status', 'count')).reset_index()\n",
        "Scholarship_holder_df"
      ]
    },
    {
      "cell_type": "code",
      "execution_count": 22,
      "metadata": {
        "colab": {
          "base_uri": "https://localhost:8080/",
          "height": 564
        },
        "id": "h2nVu70EyHdG",
        "outputId": "eb535d09-638d-4be4-c22e-7009241a8bcd"
      },
      "outputs": [
        {
          "data": {
            "image/png": "[encoded data removed]",
            "text/plain": [
              "<Figure size 720x432 with 1 Axes>"
            ]
          },
          "metadata": {
            "needs_background": "light"
          },
          "output_type": "display_data"
        }
      ],
      "source": [
        "Scholarship_dropout_df = Scholarship_holder_df[Scholarship_holder_df['Status'] == 'Dropout']\n",
        "\n",
        "plt.figure(figsize=(10, 6))\n",
        "sns.barplot(data=Scholarship_dropout_df, x='Scholarship_holder', y='Count', hue='Status')\n",
        "\n",
        "plt.title('Effect of Scholarship holder on Dropout Rates')\n",
        "plt.xlabel('Scholarship_holder')\n",
        "plt.ylabel('Number of Students')\n",
        "plt.legend(title='Status')\n",
        "\n",
        "plt.show()"
      ]
    },
    {
      "cell_type": "markdown",
      "metadata": {
        "id": "RIsPUY1IzSPL"
      },
      "source": [
        "**Conclusion:**\n",
        "The dropout rate among scholarship holders (134) is lower compared to non-scholarship holders (1287). This indicates that receiving a scholarship correlates with a lower likelihood of dropping out."
      ]
    },
    {
      "cell_type": "code",
      "execution_count": 23,
      "metadata": {
        "id": "1pjSCL_q7xic"
      },
      "outputs": [],
      "source": [
        "# # Export CSV\n",
        "# Scholarship_dropout_df.to_csv('/content/csv_output/dashboard_3.csv', index=False)"
      ]
    },
    {
      "cell_type": "markdown",
      "metadata": {
        "id": "7RmcByr3z9FV"
      },
      "source": [
        "### Impact of Grade in 1st Semester Curricular Units on Dropout Rates"
      ]
    },
    {
      "cell_type": "code",
      "execution_count": 24,
      "metadata": {
        "colab": {
          "base_uri": "https://localhost:8080/",
          "height": 424
        },
        "id": "ada3Lcne0L46",
        "outputId": "2770b9a3-b36c-4870-ecd1-ddd436bf1517"
      },
      "outputs": [
        {
          "data": {
            "text/html": [
              "<div>\n",
              "<style scoped>\n",
              "    .dataframe tbody tr th:only-of-type {\n",
              "        vertical-align: middle;\n",
              "    }\n",
              "\n",
              "    .dataframe tbody tr th {\n",
              "        vertical-align: top;\n",
              "    }\n",
              "\n",
              "    .dataframe thead th {\n",
              "        text-align: right;\n",
              "    }\n",
              "</style>\n",
              "<table border=\"1\" class=\"dataframe\">\n",
              "  <thead>\n",
              "    <tr style=\"text-align: right;\">\n",
              "      <th></th>\n",
              "      <th>Curricular_units_1st_sem_grade</th>\n",
              "      <th>Status</th>\n",
              "    </tr>\n",
              "  </thead>\n",
              "  <tbody>\n",
              "    <tr>\n",
              "      <th>0</th>\n",
              "      <td>0.000000</td>\n",
              "      <td>Dropout</td>\n",
              "    </tr>\n",
              "    <tr>\n",
              "      <th>1</th>\n",
              "      <td>14.000000</td>\n",
              "      <td>Graduate</td>\n",
              "    </tr>\n",
              "    <tr>\n",
              "      <th>2</th>\n",
              "      <td>0.000000</td>\n",
              "      <td>Dropout</td>\n",
              "    </tr>\n",
              "    <tr>\n",
              "      <th>3</th>\n",
              "      <td>13.428571</td>\n",
              "      <td>Graduate</td>\n",
              "    </tr>\n",
              "    <tr>\n",
              "      <th>4</th>\n",
              "      <td>12.333333</td>\n",
              "      <td>Graduate</td>\n",
              "    </tr>\n",
              "    <tr>\n",
              "      <th>...</th>\n",
              "      <td>...</td>\n",
              "      <td>...</td>\n",
              "    </tr>\n",
              "    <tr>\n",
              "      <th>4419</th>\n",
              "      <td>13.600000</td>\n",
              "      <td>Graduate</td>\n",
              "    </tr>\n",
              "    <tr>\n",
              "      <th>4420</th>\n",
              "      <td>12.000000</td>\n",
              "      <td>Dropout</td>\n",
              "    </tr>\n",
              "    <tr>\n",
              "      <th>4421</th>\n",
              "      <td>14.912500</td>\n",
              "      <td>Dropout</td>\n",
              "    </tr>\n",
              "    <tr>\n",
              "      <th>4422</th>\n",
              "      <td>13.800000</td>\n",
              "      <td>Graduate</td>\n",
              "    </tr>\n",
              "    <tr>\n",
              "      <th>4423</th>\n",
              "      <td>11.666667</td>\n",
              "      <td>Graduate</td>\n",
              "    </tr>\n",
              "  </tbody>\n",
              "</table>\n",
              "<p>3630 rows × 2 columns</p>\n",
              "</div>"
            ],
            "text/plain": [
              "      Curricular_units_1st_sem_grade    Status\n",
              "0                           0.000000   Dropout\n",
              "1                          14.000000  Graduate\n",
              "2                           0.000000   Dropout\n",
              "3                          13.428571  Graduate\n",
              "4                          12.333333  Graduate\n",
              "...                              ...       ...\n",
              "4419                       13.600000  Graduate\n",
              "4420                       12.000000   Dropout\n",
              "4421                       14.912500   Dropout\n",
              "4422                       13.800000  Graduate\n",
              "4423                       11.666667  Graduate\n",
              "\n",
              "[3630 rows x 2 columns]"
            ]
          },
          "execution_count": 24,
          "metadata": {},
          "output_type": "execute_result"
        }
      ],
      "source": [
        "Curricular_units_1st_sem_grade_df = df[['Curricular_units_1st_sem_grade', 'Status']]\n",
        "Curricular_units_1st_sem_grade_df"
      ]
    },
    {
      "cell_type": "code",
      "execution_count": 25,
      "metadata": {
        "colab": {
          "base_uri": "https://localhost:8080/",
          "height": 564
        },
        "id": "i7AwLMrA16QY",
        "outputId": "a8d7e7dd-599e-450c-d315-e96aa8f53fbc"
      },
      "outputs": [
        {
          "data": {
            "image/png": "[encoded data removed]",
            "text/plain": [
              "<Figure size 720x432 with 1 Axes>"
            ]
          },
          "metadata": {
            "needs_background": "light"
          },
          "output_type": "display_data"
        }
      ],
      "source": [
        "plt.figure(figsize=(10, 6))\n",
        "sns.histplot(data=Curricular_units_1st_sem_grade_df, x='Curricular_units_1st_sem_grade', hue='Status', multiple='stack', bins=20)\n",
        "plt.title('Distribution of Grade in 1st Semester Curricular Units on Dropout Rates')\n",
        "plt.xlabel('Grade')\n",
        "plt.ylabel('Number of student')\n",
        "plt.show()"
      ]
    },
    {
      "cell_type": "code",
      "execution_count": 26,
      "metadata": {
        "id": "puZF4xG-75vK"
      },
      "outputs": [],
      "source": [
        "# # Export CSV\n",
        "# Curricular_units_1st_sem_grade_df.to_csv('/content/csv_output/dashboard_4.csv', index=False)"
      ]
    },
    {
      "cell_type": "markdown",
      "metadata": {
        "id": "42eGYagG3yrL"
      },
      "source": [
        "Based on the analysis, higher grades in the first semester curricular units are associated with a greater likelihood of graduating, while lower grades increase the chances of dropping out."
      ]
    },
    {
      "cell_type": "markdown",
      "metadata": {
        "id": "-do4E14T31M_"
      },
      "source": [
        "### Impact of Grade in 2nd Semester Curricular Units on Dropout Students"
      ]
    },
    {
      "cell_type": "code",
      "execution_count": 27,
      "metadata": {
        "colab": {
          "base_uri": "https://localhost:8080/",
          "height": 206
        },
        "id": "8MiPmL_e380v",
        "outputId": "b3713235-f522-4efc-a430-b97b3fd174cf"
      },
      "outputs": [
        {
          "data": {
            "text/html": [
              "<div>\n",
              "<style scoped>\n",
              "    .dataframe tbody tr th:only-of-type {\n",
              "        vertical-align: middle;\n",
              "    }\n",
              "\n",
              "    .dataframe tbody tr th {\n",
              "        vertical-align: top;\n",
              "    }\n",
              "\n",
              "    .dataframe thead th {\n",
              "        text-align: right;\n",
              "    }\n",
              "</style>\n",
              "<table border=\"1\" class=\"dataframe\">\n",
              "  <thead>\n",
              "    <tr style=\"text-align: right;\">\n",
              "      <th></th>\n",
              "      <th>Curricular_units_2nd_sem_grade</th>\n",
              "      <th>Status</th>\n",
              "    </tr>\n",
              "  </thead>\n",
              "  <tbody>\n",
              "    <tr>\n",
              "      <th>0</th>\n",
              "      <td>0.000000</td>\n",
              "      <td>Dropout</td>\n",
              "    </tr>\n",
              "    <tr>\n",
              "      <th>1</th>\n",
              "      <td>13.666667</td>\n",
              "      <td>Graduate</td>\n",
              "    </tr>\n",
              "    <tr>\n",
              "      <th>2</th>\n",
              "      <td>0.000000</td>\n",
              "      <td>Dropout</td>\n",
              "    </tr>\n",
              "    <tr>\n",
              "      <th>3</th>\n",
              "      <td>12.400000</td>\n",
              "      <td>Graduate</td>\n",
              "    </tr>\n",
              "    <tr>\n",
              "      <th>4</th>\n",
              "      <td>13.000000</td>\n",
              "      <td>Graduate</td>\n",
              "    </tr>\n",
              "  </tbody>\n",
              "</table>\n",
              "</div>"
            ],
            "text/plain": [
              "   Curricular_units_2nd_sem_grade    Status\n",
              "0                        0.000000   Dropout\n",
              "1                       13.666667  Graduate\n",
              "2                        0.000000   Dropout\n",
              "3                       12.400000  Graduate\n",
              "4                       13.000000  Graduate"
            ]
          },
          "execution_count": 27,
          "metadata": {},
          "output_type": "execute_result"
        }
      ],
      "source": [
        "Curricular_units_2nd_sem_grade_df = df[['Curricular_units_2nd_sem_grade', 'Status']]\n",
        "Curricular_units_2nd_sem_grade_df.head(5)"
      ]
    },
    {
      "cell_type": "code",
      "execution_count": 28,
      "metadata": {
        "colab": {
          "base_uri": "https://localhost:8080/",
          "height": 564
        },
        "id": "ORHhDKSo4NoD",
        "outputId": "bcbc6ce4-db87-42f5-a2e2-2aa29dace019"
      },
      "outputs": [
        {
          "data": {
            "image/png": "[encoded data removed]",
            "text/plain": [
              "<Figure size 720x432 with 1 Axes>"
            ]
          },
          "metadata": {
            "needs_background": "light"
          },
          "output_type": "display_data"
        }
      ],
      "source": [
        "plt.figure(figsize=(10, 6))\n",
        "sns.histplot(data=Curricular_units_2nd_sem_grade_df, x='Curricular_units_2nd_sem_grade', hue='Status', multiple='stack', bins=20)\n",
        "plt.title('Distribution of Grade in 2nd Semester Curricular Units on Dropout Rates')\n",
        "plt.xlabel('Grade')\n",
        "plt.ylabel('Number of student')\n",
        "plt.show()"
      ]
    },
    {
      "cell_type": "markdown",
      "metadata": {
        "id": "aoREsodg5N7g"
      },
      "source": [
        "\n",
        "Based on the analysis, the impact of grades in 2nd semester curricular units on dropout students follows a similar pattern to that observed in the 1st semester. Higher grades correlate with a higher likelihood of graduation, whereas lower grades increase the probability of dropout. This emphasizes the consistent importance of academic performance across both semesters in determining whether students graduate or dropout from their studies."
      ]
    },
    {
      "cell_type": "code",
      "execution_count": 29,
      "metadata": {
        "id": "NNulyswT8IO9"
      },
      "outputs": [],
      "source": [
        "# # Export CSV\n",
        "# Curricular_units_2nd_sem_grade_df.to_csv('/content/csv_output/dashboard_5.csv', index=False)"
      ]
    },
    {
      "cell_type": "code",
      "execution_count": 30,
      "metadata": {
        "id": "YYgH09X38cTW"
      },
      "outputs": [],
      "source": [
        "# import shutil\n",
        "\n",
        "# # Replace 'your_folder_path' with the path of the folder you want to download\n",
        "# folder_path = '/content/csv_output'\n",
        "\n",
        "# # Zip the folder\n",
        "# shutil.make_archive(folder_path, 'zip', folder_path)\n",
        "\n",
        "# # Move the zip file to /content to make it easily downloadable\n",
        "# shutil.move(f'{folder_path}.zip', '/content/download.zip')"
      ]
    },
    {
      "cell_type": "markdown",
      "metadata": {
        "id": "9ApxmRr-5SgC"
      },
      "source": [
        "## Modeling Machine Learning"
      ]
    },
    {
      "cell_type": "markdown",
      "metadata": {
        "id": "GhzAYC7I22o1"
      },
      "source": [
        "#### Prepare data for machine learning"
      ]
    },
    {
      "cell_type": "code",
      "execution_count": 31,
      "metadata": {
        "id": "PY5QsBOw3dkt"
      },
      "outputs": [],
      "source": [
        "ml_data = df.copy()"
      ]
    },
    {
      "cell_type": "code",
      "execution_count": 32,
      "metadata": {
        "colab": {
          "base_uri": "https://localhost:8080/"
        },
        "id": "7SqAPkSH5RuK",
        "outputId": "aa4a65a0-60d5-4bee-978c-b7fa20b43e3a"
      },
      "outputs": [
        {
          "name": "stdout",
          "output_type": "stream",
          "text": [
            "<class 'pandas.core.frame.DataFrame'>\n",
            "Int64Index: 3630 entries, 0 to 4423\n",
            "Data columns (total 7 columns):\n",
            " #   Column                             Non-Null Count  Dtype  \n",
            "---  ------                             --------------  -----  \n",
            " 0   Tuition_fees_up_to_date            3630 non-null   int64  \n",
            " 1   Scholarship_holder                 3630 non-null   int64  \n",
            " 2   Curricular_units_1st_sem_approved  3630 non-null   int64  \n",
            " 3   Curricular_units_1st_sem_grade     3630 non-null   float64\n",
            " 4   Curricular_units_2nd_sem_approved  3630 non-null   int64  \n",
            " 5   Curricular_units_2nd_sem_grade     3630 non-null   float64\n",
            " 6   Status                             3630 non-null   object \n",
            "dtypes: float64(2), int64(4), object(1)\n",
            "memory usage: 226.9+ KB\n"
          ]
        }
      ],
      "source": [
        "ml_data.info()"
      ]
    },
    {
      "cell_type": "code",
      "execution_count": 33,
      "metadata": {
        "colab": {
          "base_uri": "https://localhost:8080/"
        },
        "id": "8xZxb6Dz6sIz",
        "outputId": "ea39b534-f3fd-475b-896b-bcf38d655d7b"
      },
      "outputs": [
        {
          "data": {
            "text/plain": [
              "Graduate    2209\n",
              "Dropout     1421\n",
              "Name: Status, dtype: int64"
            ]
          },
          "execution_count": 33,
          "metadata": {},
          "output_type": "execute_result"
        }
      ],
      "source": [
        "ml_data[\"Status\"].value_counts()"
      ]
    },
    {
      "cell_type": "code",
      "execution_count": 34,
      "metadata": {
        "id": "p1S9xVGZ3Sm5"
      },
      "outputs": [],
      "source": [
        "# # Split data\n",
        "# X = ml_data.drop(['Status'], axis=1)\n",
        "# y = ml_data['Status'].values"
      ]
    },
    {
      "cell_type": "code",
      "execution_count": 35,
      "metadata": {
        "id": "9NyLSMsY5GW0"
      },
      "outputs": [],
      "source": [
        "# # Resampling data\n",
        "# from collections import Counter\n",
        "# from imblearn.over_sampling import RandomOverSampler\n",
        "# print(Counter(y))\n",
        "# ros = RandomOverSampler(random_state=42)\n",
        "# X_over, y_over = ros.fit_resample(X, y)\n",
        "# print(Counter(y_over))"
      ]
    },
    {
      "cell_type": "markdown",
      "metadata": {
        "id": "FRRq-J507Vh7"
      },
      "source": [
        "### Train-test Split"
      ]
    },
    {
      "cell_type": "code",
      "execution_count": 36,
      "metadata": {
        "colab": {
          "base_uri": "https://localhost:8080/"
        },
        "id": "VH7SFLCD5M3H",
        "outputId": "ed8bfced-b3bd-4c62-b096-31641c9230e5"
      },
      "outputs": [
        {
          "name": "stdout",
          "output_type": "stream",
          "text": [
            "(2904, 7)\n",
            "(726, 7)\n"
          ]
        }
      ],
      "source": [
        "#from sklearn.model_selection import train_test_split\n",
        "\n",
        "train_df, test_df = train_test_split(ml_data, test_size=0.2, random_state=42, shuffle=True)\n",
        "train_df.reset_index(drop=True, inplace=True)\n",
        "test_df.reset_index(drop=True, inplace=True)\n",
        "\n",
        "print(train_df.shape)\n",
        "print(test_df.shape)"
      ]
    },
    {
      "cell_type": "code",
      "execution_count": 37,
      "metadata": {
        "colab": {
          "base_uri": "https://localhost:8080/",
          "height": 449
        },
        "id": "zmqEaqZC8OHa",
        "outputId": "0625314d-f030-4ba2-c226-4a38d4c4de7d"
      },
      "outputs": [
        {
          "data": {
            "image/png": "[encoded data removed]",
            "text/plain": [
              "<Figure size 432x288 with 1 Axes>"
            ]
          },
          "metadata": {
            "needs_background": "light"
          },
          "output_type": "display_data"
        }
      ],
      "source": [
        "sns.countplot(data=train_df, x=\"Status\")\n",
        "plt.show()"
      ]
    },
    {
      "cell_type": "code",
      "execution_count": 38,
      "metadata": {
        "colab": {
          "base_uri": "https://localhost:8080/"
        },
        "id": "OLCuPHKd9H1r",
        "outputId": "71001ee4-a6b8-42cf-8eb1-f2f75d93ae1d"
      },
      "outputs": [
        {
          "data": {
            "text/plain": [
              "Graduate    1760\n",
              "Dropout     1144\n",
              "Name: Status, dtype: int64"
            ]
          },
          "execution_count": 38,
          "metadata": {},
          "output_type": "execute_result"
        }
      ],
      "source": [
        "train_df.Status.value_counts()"
      ]
    },
    {
      "cell_type": "markdown",
      "metadata": {
        "id": "CTO9MyLR8m-I"
      },
      "source": [
        "### Oversampling"
      ]
    },
    {
      "cell_type": "code",
      "execution_count": 39,
      "metadata": {
        "colab": {
          "base_uri": "https://localhost:8080/",
          "height": 449
        },
        "id": "J8G8IbaX8pNO",
        "outputId": "62c51765-8085-487a-a953-100334007b1b"
      },
      "outputs": [
        {
          "data": {
            "image/png": "[encoded data removed]",
            "text/plain": [
              "<Figure size 432x288 with 1 Axes>"
            ]
          },
          "metadata": {
            "needs_background": "light"
          },
          "output_type": "display_data"
        }
      ],
      "source": [
        "from sklearn.utils import resample\n",
        "from sklearn.utils import shuffle\n",
        "\n",
        "df_majority = train_df[(train_df.Status == \"Graduate\")]\n",
        "df_minority = train_df[(train_df.Status == 'Dropout')]\n",
        "\n",
        "\n",
        "df_majority_undersampled = resample(df_majority, n_samples=1760, random_state=42)\n",
        "df_minority_undersampled = resample(df_minority, n_samples=1760, random_state=42)\n",
        "\n",
        "\n",
        "oversampled_train_df = pd.concat([df_majority_undersampled, df_minority_undersampled]).reset_index(drop=True)\n",
        "oversampled_train_df = shuffle(oversampled_train_df, random_state=42)\n",
        "oversampled_train_df.reset_index(drop=True, inplace=True)\n",
        "\n",
        "\n",
        "sns.countplot(data=oversampled_train_df, x=\"Status\")\n",
        "plt.show()"
      ]
    },
    {
      "cell_type": "markdown",
      "metadata": {
        "id": "blTVRa8zBjNJ"
      },
      "source": [
        "### Separating features from targets"
      ]
    },
    {
      "cell_type": "code",
      "execution_count": 40,
      "metadata": {
        "id": "Uwjqxh_SBhI8"
      },
      "outputs": [],
      "source": [
        "X_train = oversampled_train_df.drop(columns=\"Status\", axis=1)\n",
        "y_train = oversampled_train_df[\"Status\"]\n",
        "\n",
        "X_test = test_df.drop(columns=\"Status\", axis=1)\n",
        "y_test = test_df[\"Status\"]"
      ]
    },
    {
      "cell_type": "markdown",
      "metadata": {
        "id": "u_la2oElCH1m"
      },
      "source": [
        "### Scaling"
      ]
    },
    {
      "cell_type": "code",
      "execution_count": 41,
      "metadata": {
        "id": "6BK00WQKE7ai"
      },
      "outputs": [],
      "source": [
        "if not os.path.exists('model'):\n",
        "    os.makedirs('model')\n",
        "\n",
        "def scaling(features, df, df_test=None):\n",
        "    if df_test is not None:\n",
        "        df = df.copy()\n",
        "        df_test = df_test.copy()\n",
        "        for feature in features:\n",
        "            scaler = MinMaxScaler()\n",
        "            X = np.asanyarray(df[feature]).reshape(-1,1)\n",
        "            scaler.fit(X)\n",
        "            df[feature] = scaler.transform(X)\n",
        "            joblib.dump(scaler, f\"model/scaler_{feature}.joblib\")\n",
        "\n",
        "            X_test = np.asanyarray(df_test[feature]).reshape(-1,1)\n",
        "            df_test[feature] = scaler.transform(X_test)\n",
        "        return df, df_test\n",
        "    else:\n",
        "        df = df.copy()\n",
        "        for feature in features:\n",
        "            scaler = MinMaxScaler()\n",
        "            X = np.asanyarray(df[feature]).reshape(-1,1)\n",
        "            scaler.fit(X)\n",
        "            df[feature] = scaler.transform(X)\n",
        "            joblib.dump(scaler, f\"model/scaler_{feature}.joblib\")\n",
        "        return df\n",
        "\n",
        "def encoding(features, df, df_test=None):\n",
        "    if df_test is not None:\n",
        "        df = df.copy()\n",
        "        df_test = df_test.copy()\n",
        "        for feature in features:\n",
        "            encoder = LabelEncoder()\n",
        "            encoder.fit(df[feature])\n",
        "            df[feature] = encoder.transform(df[feature])\n",
        "            joblib.dump(encoder, f\"model/encoder_{feature}.joblib\")\n",
        "\n",
        "            df_test[feature] = encoder.transform(df_test[feature])\n",
        "        return df, df_test\n",
        "    else:\n",
        "        df = df.copy()\n",
        "        for feature in features:\n",
        "            encoder = LabelEncoder()\n",
        "            encoder.fit(df[feature])\n",
        "            df[feature] = encoder.transform(df[feature])\n",
        "            joblib.dump(encoder, f\"model/encoder_{feature}.joblib\")\n",
        "        return df"
      ]
    },
    {
      "cell_type": "markdown",
      "metadata": {
        "id": "n8sWo4NbCxWQ"
      },
      "source": []
    },
    {
      "cell_type": "code",
      "execution_count": 42,
      "metadata": {
        "colab": {
          "base_uri": "https://localhost:8080/"
        },
        "id": "OMvi-LXaCx8x",
        "outputId": "bbae6ffc-8cd9-490c-ee61-6967677e348e"
      },
      "outputs": [
        {
          "data": {
            "text/plain": [
              "Index(['Tuition_fees_up_to_date', 'Scholarship_holder',\n",
              "       'Curricular_units_1st_sem_approved', 'Curricular_units_1st_sem_grade',\n",
              "       'Curricular_units_2nd_sem_approved', 'Curricular_units_2nd_sem_grade'],\n",
              "      dtype='object')"
            ]
          },
          "execution_count": 42,
          "metadata": {},
          "output_type": "execute_result"
        }
      ],
      "source": [
        "X_train.columns"
      ]
    },
    {
      "cell_type": "code",
      "execution_count": 43,
      "metadata": {
        "id": "C046vMXCCRWV"
      },
      "outputs": [],
      "source": [
        "numerical_columns = ['Tuition_fees_up_to_date', 'Scholarship_holder',\n",
        "       'Curricular_units_1st_sem_approved', 'Curricular_units_1st_sem_grade',\n",
        "       'Curricular_units_2nd_sem_approved', 'Curricular_units_2nd_sem_grade']\n",
        "\n",
        "new_train_df, new_test_df = scaling(numerical_columns, X_train, X_test)"
      ]
    },
    {
      "cell_type": "code",
      "execution_count": 44,
      "metadata": {
        "colab": {
          "base_uri": "https://localhost:8080/",
          "height": 444
        },
        "id": "4HtpH2ByFH06",
        "outputId": "1125843a-a007-4456-959b-b1ab8e47bd2f"
      },
      "outputs": [
        {
          "data": {
            "text/html": [
              "<div>\n",
              "<style scoped>\n",
              "    .dataframe tbody tr th:only-of-type {\n",
              "        vertical-align: middle;\n",
              "    }\n",
              "\n",
              "    .dataframe tbody tr th {\n",
              "        vertical-align: top;\n",
              "    }\n",
              "\n",
              "    .dataframe thead th {\n",
              "        text-align: right;\n",
              "    }\n",
              "</style>\n",
              "<table border=\"1\" class=\"dataframe\">\n",
              "  <thead>\n",
              "    <tr style=\"text-align: right;\">\n",
              "      <th></th>\n",
              "      <th>Tuition_fees_up_to_date</th>\n",
              "      <th>Scholarship_holder</th>\n",
              "      <th>Curricular_units_1st_sem_approved</th>\n",
              "      <th>Curricular_units_1st_sem_grade</th>\n",
              "      <th>Curricular_units_2nd_sem_approved</th>\n",
              "      <th>Curricular_units_2nd_sem_grade</th>\n",
              "    </tr>\n",
              "  </thead>\n",
              "  <tbody>\n",
              "    <tr>\n",
              "      <th>0</th>\n",
              "      <td>1.0</td>\n",
              "      <td>0.0</td>\n",
              "      <td>0.461538</td>\n",
              "      <td>0.675214</td>\n",
              "      <td>0.50</td>\n",
              "      <td>0.732955</td>\n",
              "    </tr>\n",
              "    <tr>\n",
              "      <th>1</th>\n",
              "      <td>1.0</td>\n",
              "      <td>0.0</td>\n",
              "      <td>0.269231</td>\n",
              "      <td>0.757937</td>\n",
              "      <td>0.40</td>\n",
              "      <td>0.839360</td>\n",
              "    </tr>\n",
              "    <tr>\n",
              "      <th>2</th>\n",
              "      <td>1.0</td>\n",
              "      <td>0.0</td>\n",
              "      <td>0.192308</td>\n",
              "      <td>0.611111</td>\n",
              "      <td>0.25</td>\n",
              "      <td>0.670455</td>\n",
              "    </tr>\n",
              "    <tr>\n",
              "      <th>3</th>\n",
              "      <td>1.0</td>\n",
              "      <td>1.0</td>\n",
              "      <td>0.230769</td>\n",
              "      <td>0.703704</td>\n",
              "      <td>0.30</td>\n",
              "      <td>0.738636</td>\n",
              "    </tr>\n",
              "    <tr>\n",
              "      <th>4</th>\n",
              "      <td>1.0</td>\n",
              "      <td>0.0</td>\n",
              "      <td>0.115385</td>\n",
              "      <td>0.592593</td>\n",
              "      <td>0.15</td>\n",
              "      <td>0.596591</td>\n",
              "    </tr>\n",
              "    <tr>\n",
              "      <th>...</th>\n",
              "      <td>...</td>\n",
              "      <td>...</td>\n",
              "      <td>...</td>\n",
              "      <td>...</td>\n",
              "      <td>...</td>\n",
              "      <td>...</td>\n",
              "    </tr>\n",
              "    <tr>\n",
              "      <th>3515</th>\n",
              "      <td>1.0</td>\n",
              "      <td>1.0</td>\n",
              "      <td>0.230769</td>\n",
              "      <td>0.824074</td>\n",
              "      <td>0.30</td>\n",
              "      <td>0.804924</td>\n",
              "    </tr>\n",
              "    <tr>\n",
              "      <th>3516</th>\n",
              "      <td>1.0</td>\n",
              "      <td>1.0</td>\n",
              "      <td>0.269231</td>\n",
              "      <td>0.750794</td>\n",
              "      <td>0.35</td>\n",
              "      <td>0.767857</td>\n",
              "    </tr>\n",
              "    <tr>\n",
              "      <th>3517</th>\n",
              "      <td>1.0</td>\n",
              "      <td>1.0</td>\n",
              "      <td>0.269231</td>\n",
              "      <td>0.738889</td>\n",
              "      <td>0.40</td>\n",
              "      <td>0.859375</td>\n",
              "    </tr>\n",
              "    <tr>\n",
              "      <th>3518</th>\n",
              "      <td>1.0</td>\n",
              "      <td>0.0</td>\n",
              "      <td>0.038462</td>\n",
              "      <td>0.555556</td>\n",
              "      <td>0.10</td>\n",
              "      <td>0.643939</td>\n",
              "    </tr>\n",
              "    <tr>\n",
              "      <th>3519</th>\n",
              "      <td>1.0</td>\n",
              "      <td>0.0</td>\n",
              "      <td>0.115385</td>\n",
              "      <td>0.611111</td>\n",
              "      <td>0.10</td>\n",
              "      <td>0.767045</td>\n",
              "    </tr>\n",
              "  </tbody>\n",
              "</table>\n",
              "<p>3520 rows × 6 columns</p>\n",
              "</div>"
            ],
            "text/plain": [
              "      Tuition_fees_up_to_date  Scholarship_holder  \\\n",
              "0                         1.0                 0.0   \n",
              "1                         1.0                 0.0   \n",
              "2                         1.0                 0.0   \n",
              "3                         1.0                 1.0   \n",
              "4                         1.0                 0.0   \n",
              "...                       ...                 ...   \n",
              "3515                      1.0                 1.0   \n",
              "3516                      1.0                 1.0   \n",
              "3517                      1.0                 1.0   \n",
              "3518                      1.0                 0.0   \n",
              "3519                      1.0                 0.0   \n",
              "\n",
              "      Curricular_units_1st_sem_approved  Curricular_units_1st_sem_grade  \\\n",
              "0                              0.461538                        0.675214   \n",
              "1                              0.269231                        0.757937   \n",
              "2                              0.192308                        0.611111   \n",
              "3                              0.230769                        0.703704   \n",
              "4                              0.115385                        0.592593   \n",
              "...                                 ...                             ...   \n",
              "3515                           0.230769                        0.824074   \n",
              "3516                           0.269231                        0.750794   \n",
              "3517                           0.269231                        0.738889   \n",
              "3518                           0.038462                        0.555556   \n",
              "3519                           0.115385                        0.611111   \n",
              "\n",
              "      Curricular_units_2nd_sem_approved  Curricular_units_2nd_sem_grade  \n",
              "0                                  0.50                        0.732955  \n",
              "1                                  0.40                        0.839360  \n",
              "2                                  0.25                        0.670455  \n",
              "3                                  0.30                        0.738636  \n",
              "4                                  0.15                        0.596591  \n",
              "...                                 ...                             ...  \n",
              "3515                               0.30                        0.804924  \n",
              "3516                               0.35                        0.767857  \n",
              "3517                               0.40                        0.859375  \n",
              "3518                               0.10                        0.643939  \n",
              "3519                               0.10                        0.767045  \n",
              "\n",
              "[3520 rows x 6 columns]"
            ]
          },
          "execution_count": 44,
          "metadata": {},
          "output_type": "execute_result"
        }
      ],
      "source": [
        "new_train_df"
      ]
    },
    {
      "cell_type": "code",
      "execution_count": 45,
      "metadata": {
        "id": "SvnkjEwsGS-y"
      },
      "outputs": [],
      "source": [
        "encoder = LabelEncoder()\n",
        "encoder.fit(y_train)\n",
        "new_y_train = encoder.transform(y_train)\n",
        "joblib.dump(encoder, \"model/encoder_target.joblib\")\n",
        "\n",
        "new_y_test = encoder.transform(y_test)"
      ]
    },
    {
      "cell_type": "markdown",
      "metadata": {
        "id": "PraH88e6HHLz"
      },
      "source": [
        "### Modeling"
      ]
    },
    {
      "cell_type": "code",
      "execution_count": 46,
      "metadata": {
        "colab": {
          "base_uri": "https://localhost:8080/",
          "height": 75
        },
        "id": "iaUiYZ1SHK2l",
        "outputId": "1869484b-f06b-4145-e352-068324c9a7a5"
      },
      "outputs": [
        {
          "data": {
            "text/plain": [
              "LogisticRegression()"
            ]
          },
          "execution_count": 46,
          "metadata": {},
          "output_type": "execute_result"
        }
      ],
      "source": [
        "model_lr = LogisticRegression()\n",
        "model_lr.fit(new_train_df, new_y_train)"
      ]
    },
    {
      "cell_type": "code",
      "execution_count": 47,
      "metadata": {
        "colab": {
          "base_uri": "https://localhost:8080/"
        },
        "id": "pzLxtIvJJqcF",
        "outputId": "e5e04504-7e26-4820-dd71-2ec35fae060b"
      },
      "outputs": [
        {
          "data": {
            "text/plain": [
              "['logreg.joblib']"
            ]
          },
          "execution_count": 47,
          "metadata": {},
          "output_type": "execute_result"
        }
      ],
      "source": [
        "joblib.dump(model_lr, \"logreg.joblib\")"
      ]
    },
    {
      "cell_type": "markdown",
      "metadata": {
        "id": "zoZiZbDaJ75W"
      },
      "source": [
        "### Evaluation"
      ]
    },
    {
      "cell_type": "code",
      "execution_count": 48,
      "metadata": {
        "id": "fLlLXgKaH87L"
      },
      "outputs": [],
      "source": [
        "def perform(y_pred):\n",
        "    print(\"Precision : \", precision_score(new_y_test, y_pred, average = 'micro'))\n",
        "    print(\"Recall : \", recall_score(new_y_test, y_pred, average = 'micro'))\n",
        "    print(\"Accuracy : \", accuracy_score(new_y_test, y_pred))\n",
        "    print(\"F1 Score : \", f1_score(new_y_test, y_pred, average = 'micro'))\n",
        "    cm = confusion_matrix(new_y_test, y_pred)\n",
        "    print(\"\\n\", cm)\n",
        "    print(\"\\n\")\n",
        "    print(\"**\"*27 + \"\\n\" + \" \"* 16 + \"Classification Report\\n\" + \"**\"*27)\n",
        "    print(classification_report(new_y_test, y_pred))\n",
        "    print(\"**\"*27+\"\\n\")\n",
        "\n",
        "    cm = ConfusionMatrixDisplay(confusion_matrix = cm, display_labels=['Graduated', 'Dropout'])\n",
        "    cm.plot()"
      ]
    },
    {
      "cell_type": "code",
      "execution_count": 49,
      "metadata": {
        "id": "eMNs2_JuHr3R"
      },
      "outputs": [],
      "source": [
        "y_pred_lr = model_lr.predict(new_test_df)"
      ]
    },
    {
      "cell_type": "code",
      "execution_count": 50,
      "metadata": {
        "colab": {
          "base_uri": "https://localhost:8080/",
          "height": 848
        },
        "id": "isbJZ-SQH6yD",
        "outputId": "a87d8f01-efa1-4d70-fb6b-b3fe0498e48a"
      },
      "outputs": [
        {
          "name": "stdout",
          "output_type": "stream",
          "text": [
            "Precision :  0.8801652892561983\n",
            "Recall :  0.8801652892561983\n",
            "Accuracy :  0.8801652892561983\n",
            "F1 Score :  0.8801652892561983\n",
            "\n",
            " [[212  65]\n",
            " [ 22 427]]\n",
            "\n",
            "\n",
            "******************************************************\n",
            "                Classification Report\n",
            "******************************************************\n",
            "              precision    recall  f1-score   support\n",
            "\n",
            "           0       0.91      0.77      0.83       277\n",
            "           1       0.87      0.95      0.91       449\n",
            "\n",
            "    accuracy                           0.88       726\n",
            "   macro avg       0.89      0.86      0.87       726\n",
            "weighted avg       0.88      0.88      0.88       726\n",
            "\n",
            "******************************************************\n",
            "\n"
          ]
        },
        {
          "data": {
            "image/png": "[encoded data removed]",
            "text/plain": [
              "<Figure size 432x288 with 2 Axes>"
            ]
          },
          "metadata": {
            "needs_background": "light"
          },
          "output_type": "display_data"
        }
      ],
      "source": [
        "perform(y_pred_lr)"
      ]
    },
    {
      "cell_type": "code",
      "execution_count": 52,
      "metadata": {
        "colab": {
          "base_uri": "https://localhost:8080/"
        },
        "id": "jhbNLjFonQ3X",
        "outputId": "28eac64d-e635-4477-b3c4-f4da5f59e026"
      },
      "outputs": [
        {
          "name": "stderr",
          "output_type": "stream",
          "text": [
            "C:\\Users\\USER\\AppData\\Local\\Packages\\PythonSoftwareFoundation.Python.3.9_qbz5n2kfra8p0\\LocalCache\\local-packages\\Python39\\site-packages\\sklearn\\base.py:450: UserWarning: X does not have valid feature names, but LogisticRegression was fitted with feature names\n",
            "  warnings.warn(\n"
          ]
        },
        {
          "data": {
            "text/plain": [
              "array([1])"
            ]
          },
          "execution_count": 52,
          "metadata": {},
          "output_type": "execute_result"
        }
      ],
      "source": [
        "model_lr.predict([[1,1,1,1,1,1]])"
      ]
    }
  ],
  "metadata": {
    "colab": {
      "provenance": []
    },
    "kernelspec": {
      "display_name": "Python 3",
      "name": "python3"
    },
    "language_info": {
      "codemirror_mode": {
        "name": "ipython",
        "version": 3
      },
      "file_extension": ".py",
      "mimetype": "text/x-python",
      "name": "python",
      "nbconvert_exporter": "python",
      "pygments_lexer": "ipython3",
      "version": "3.9.13"
    }
  },
  "nbformat": 4,
  "nbformat_minor": 0
}
